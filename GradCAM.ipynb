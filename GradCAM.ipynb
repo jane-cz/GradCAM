{
  "cells": [
    {
      "cell_type": "markdown",
      "metadata": {
        "id": "jMlT4ixARsVD"
      },
      "source": [
        "# Showcases integrated gradients on CIFAR10 dataset"
      ]
    },
    {
      "cell_type": "markdown",
      "metadata": {
        "id": "QUknsnExRsVG"
      },
      "source": [
        "This tutorial demonstrates how to apply model interpretability algorithms from Captum library on a simple model and test samples from CIFAR dataset.\n",
        "\n",
        "In this tutorial we build a simple model as described in:\n",
        "https://pytorch.org/tutorials/beginner/blitz/cifar10_tutorial.html#sphx-glr-beginner-blitz-cifar10-tutorial-py\n",
        "\n",
        "Then we use attribution algorithms such as `IntegratedGradients`, `Saliency`, `DeepLift` and `NoiseTunnel` to attribute the label of the image to the input pixels and visualize it.\n",
        "  \n",
        "  **Note:** Before running this tutorial, please install the torchvision, and matplotlib packages."
      ]
    },
    {
      "cell_type": "code",
      "source": [
        "!pip install captum"
      ],
      "metadata": {
        "id": "g3vDYYIXU5uj"
      },
      "execution_count": null,
      "outputs": []
    },
    {
      "cell_type": "code",
      "execution_count": 2,
      "metadata": {
        "id": "BjIYgR-URsVH"
      },
      "outputs": [],
      "source": [
        "import matplotlib.pyplot as plt\n",
        "import numpy as np\n",
        "\n",
        "%matplotlib inline\n",
        "\n",
        "import torch\n",
        "import torchvision\n",
        "import torchvision.transforms as transforms\n",
        "import torchvision.transforms.functional as TF\n",
        "\n",
        "from torchvision import models\n",
        "\n",
        "from captum.attr import IntegratedGradients\n",
        "from captum.attr import Saliency\n",
        "from captum.attr import DeepLift\n",
        "from captum.attr import NoiseTunnel\n",
        "from captum.attr import visualization as viz"
      ]
    },
    {
      "cell_type": "markdown",
      "metadata": {
        "id": "mitZqcWLRsVJ"
      },
      "source": [
        "In the cell below we load test and train datasets, define image transformers and supported classification label classes."
      ]
    },
    {
      "cell_type": "code",
      "execution_count": 3,
      "metadata": {
        "colab": {
          "base_uri": "https://localhost:8080/"
        },
        "id": "-i6H1dnjRsVJ",
        "outputId": "30e17a61-6936-4060-e09b-dc5178a564ec"
      },
      "outputs": [
        {
          "output_type": "stream",
          "name": "stdout",
          "text": [
            "Files already downloaded and verified\n",
            "Files already downloaded and verified\n"
          ]
        }
      ],
      "source": [
        "transform = transforms.Compose(\n",
        "    [transforms.ToTensor(),\n",
        "     transforms.Normalize((0.5, 0.5, 0.5), (0.5, 0.5, 0.5))])\n",
        "\n",
        "trainset = torchvision.datasets.CIFAR10(root='./data', train=True,\n",
        "                                        download=True, transform=transform)\n",
        "trainloader = torch.utils.data.DataLoader(trainset, batch_size=4,\n",
        "                                          shuffle=True, num_workers=2)\n",
        "\n",
        "testset = torchvision.datasets.CIFAR10(root='./data', train=False,\n",
        "                                       download=True, transform=transform)\n",
        "testloader = torch.utils.data.DataLoader(testset, batch_size=4,\n",
        "                                         shuffle=False, num_workers=2)\n",
        "\n",
        "classes = ('plane', 'car', 'bird', 'cat',\n",
        "           'deer', 'dog', 'frog', 'horse', 'ship', 'truck')\n"
      ]
    },
    {
      "cell_type": "markdown",
      "metadata": {
        "id": "n8UaItioRsVK"
      },
      "source": [
        "We define a classification network based on the architecture proposed in the following tutorial:\n",
        "https://pytorch.org/tutorials/beginner/blitz/cifar10_tutorial.html#sphx-glr-beginner-blitz-cifar10-tutorial-py"
      ]
    },
    {
      "cell_type": "code",
      "execution_count": 4,
      "metadata": {
        "id": "VhdlQrMXRsVL"
      },
      "outputs": [],
      "source": [
        "import torch.nn as nn\n",
        "import torch.nn.functional as F\n",
        "\n",
        "\n",
        "class Net(nn.Module):\n",
        "    def __init__(self):\n",
        "        super(Net, self).__init__()\n",
        "        self.conv1 = nn.Conv2d(3, 6, 5)\n",
        "        self.pool1 = nn.MaxPool2d(2, 2)\n",
        "        self.pool2 = nn.MaxPool2d(2, 2)\n",
        "        self.conv2 = nn.Conv2d(6, 16, 5)\n",
        "        self.fc1 = nn.Linear(16 * 5 * 5, 120)\n",
        "        self.fc2 = nn.Linear(120, 84)\n",
        "        self.fc3 = nn.Linear(84, 10)\n",
        "        self.relu1 = nn.ReLU()\n",
        "        self.relu2 = nn.ReLU()\n",
        "        self.relu3 = nn.ReLU()\n",
        "        self.relu4 = nn.ReLU()\n",
        "\n",
        "    def forward(self, x):\n",
        "        # input dim: 32*32*3\n",
        "        # after conv1: 28*28*6\n",
        "        # after pool1: 14*14*6\n",
        "        # after conv2: 10*10*16\n",
        "        # after pool2: 5*5*16\n",
        "        x = self.pool1(self.relu1(self.conv1(x)))\n",
        "        x = self.pool2(self.relu2(self.conv2(x)))\n",
        "        x = x.view(-1, 16 * 5 * 5)\n",
        "        x = self.relu3(self.fc1(x))\n",
        "        x = self.relu4(self.fc2(x))\n",
        "        x = self.fc3(x)\n",
        "        return x\n",
        "\n",
        "\n",
        "net = Net()"
      ]
    },
    {
      "cell_type": "code",
      "execution_count": 5,
      "metadata": {
        "id": "RJ0T9XSeRsVL"
      },
      "outputs": [],
      "source": [
        "import torch.optim as optim\n",
        "\n",
        "criterion = nn.CrossEntropyLoss()\n",
        "optimizer = optim.SGD(net.parameters(), lr=0.001, momentum=0.9)"
      ]
    },
    {
      "cell_type": "markdown",
      "metadata": {
        "id": "CNTFXhadRsVM"
      },
      "source": [
        "Trains `Net` model for a very small number of epochs. The training code snippet is copied from the tutorial mentioned above. \n",
        "In order to avoid training the model every time from scratch, we save a pretrained version of the model in `models` folder and load it from there. https://github.com/pytorch/captum/blob/master/tutorials/models/cifar_torchvision.pt"
      ]
    },
    {
      "cell_type": "code",
      "execution_count": 6,
      "metadata": {
        "colab": {
          "base_uri": "https://localhost:8080/"
        },
        "id": "HJl80PvmRsVN",
        "outputId": "dced514e-f33c-4698-a248-acc1d899deff"
      },
      "outputs": [
        {
          "output_type": "stream",
          "name": "stdout",
          "text": [
            "Using existing trained model\n"
          ]
        }
      ],
      "source": [
        "import os\n",
        "\n",
        "USE_PRETRAINED_MODEL = True\n",
        "\n",
        "if not os.path.isdir('/models'):\n",
        "  os.mkdir('/models')\n",
        "\n",
        "if USE_PRETRAINED_MODEL and os.path.isfile('/models/cifar_torchvision.pt'):\n",
        "    print(\"Using existing trained model\")\n",
        "    net.load_state_dict(torch.load('/models/cifar_torchvision.pt'))\n",
        "else:\n",
        "    for epoch in range(5):  # loop over the dataset multiple times\n",
        "\n",
        "        running_loss = 0.0\n",
        "        for i, data in enumerate(trainloader, 0):\n",
        "            # get the inputs\n",
        "            inputs, labels = data\n",
        "            # zero the parameter gradients\n",
        "            optimizer.zero_grad()\n",
        "\n",
        "            # forward + backward + optimize\n",
        "            outputs = net(inputs)\n",
        "            loss = criterion(outputs, labels)\n",
        "            loss.backward()\n",
        "            optimizer.step()\n",
        "\n",
        "            # print statistics\n",
        "            running_loss += loss.item()\n",
        "            if i % 2000 == 1999:    # print every 2000 mini-batches\n",
        "                print('[%d, %5d] loss: %.3f' %\n",
        "                      (epoch + 1, i + 1, running_loss / 2000))\n",
        "                running_loss = 0.0\n",
        "\n",
        "    print('Finished Training')\n",
        "    torch.save(net.state_dict(), '/models/cifar_torchvision.pt')"
      ]
    },
    {
      "cell_type": "markdown",
      "metadata": {
        "id": "TIIs7mD9RsVN"
      },
      "source": [
        "In the cell below we load some images from the test dataset and perform predictions."
      ]
    },
    {
      "cell_type": "code",
      "execution_count": 7,
      "metadata": {
        "colab": {
          "base_uri": "https://localhost:8080/",
          "height": 173
        },
        "id": "PWCtH7knRsVN",
        "outputId": "4bd4f5d3-929c-41b3-aec4-4c943addb908"
      },
      "outputs": [
        {
          "output_type": "display_data",
          "data": {
            "text/plain": [
              "<Figure size 432x288 with 1 Axes>"
            ],
            "image/png": "[encoded data removed]"
          },
          "metadata": {
            "needs_background": "light"
          }
        },
        {
          "output_type": "stream",
          "name": "stdout",
          "text": [
            "GroundTruth:    cat  ship  ship plane\n",
            "Predicted:    cat  ship plane plane\n"
          ]
        }
      ],
      "source": [
        "def imshow(img, transpose = True):\n",
        "    img = img / 2 + 0.5     # unnormalize\n",
        "    npimg = img.numpy()\n",
        "    plt.imshow(np.transpose(npimg, (1, 2, 0)))\n",
        "    plt.show()\n",
        "\n",
        "dataiter = iter(testloader)\n",
        "images, labels = next(dataiter)\n",
        "\n",
        "# print images\n",
        "imshow(torchvision.utils.make_grid(images))\n",
        "print('GroundTruth: ', ' '.join('%5s' % classes[labels[j]] for j in range(4)))\n",
        "\n",
        "\n",
        "outputs = net(images)\n",
        "\n",
        "_, predicted = torch.max(outputs, 1)\n",
        "\n",
        "print('Predicted: ', ' '.join('%5s' % classes[predicted[j]]\n",
        "                              for j in range(4)))"
      ]
    },
    {
      "cell_type": "code",
      "source": [
        "print(outputs)\n",
        "print(predicted)"
      ],
      "metadata": {
        "colab": {
          "base_uri": "https://localhost:8080/"
        },
        "id": "-Q4UbLgIBriB",
        "outputId": "74860214-157d-4127-9e32-e10c30a2f47b"
      },
      "execution_count": 8,
      "outputs": [
        {
          "output_type": "stream",
          "name": "stdout",
          "text": [
            "tensor([[-5.1116, -4.9508,  5.6969,  7.1455,  0.6529,  4.1696,  3.4359, -1.6593,\n",
            "         -3.7317, -4.4865],\n",
            "        [ 5.5994,  8.6038, -4.2344, -4.6868, -3.2834, -5.8986, -4.9087, -3.1921,\n",
            "          8.6197,  3.9456],\n",
            "        [ 2.0119,  0.8491, -0.4865,  0.4970, -1.5228, -0.9074, -1.7042, -0.8516,\n",
            "          1.6234,  1.2568],\n",
            "        [ 2.8730,  0.2899,  0.4769, -1.0035,  0.1670, -1.3964, -1.1194, -1.0338,\n",
            "          1.4236,  0.7617]], grad_fn=<AddmmBackward0>)\n",
            "tensor([3, 8, 0, 0])\n"
          ]
        }
      ]
    },
    {
      "cell_type": "markdown",
      "metadata": {
        "id": "VpJW2MaORsVO"
      },
      "source": [
        "Let's choose a test image at index `ind` and apply some of our attribution algorithms on it."
      ]
    },
    {
      "cell_type": "code",
      "execution_count": 9,
      "metadata": {
        "id": "5Ye_Sl62RsVO"
      },
      "outputs": [],
      "source": [
        "ind = 3\n",
        "\n",
        "input = images[ind].unsqueeze(0)\n",
        "input.requires_grad = True"
      ]
    },
    {
      "cell_type": "markdown",
      "metadata": {
        "id": "wz0M3Nd5RsVO"
      },
      "source": [
        "Sets model to eval mode for interpretation purposes"
      ]
    },
    {
      "cell_type": "code",
      "execution_count": 10,
      "metadata": {
        "colab": {
          "base_uri": "https://localhost:8080/"
        },
        "id": "ruj9JqwwRsVP",
        "outputId": "bc530664-1e14-45f3-8996-b71800db110f"
      },
      "outputs": [
        {
          "output_type": "execute_result",
          "data": {
            "text/plain": [
              "Net(\n",
              "  (conv1): Conv2d(3, 6, kernel_size=(5, 5), stride=(1, 1))\n",
              "  (pool1): MaxPool2d(kernel_size=2, stride=2, padding=0, dilation=1, ceil_mode=False)\n",
              "  (pool2): MaxPool2d(kernel_size=2, stride=2, padding=0, dilation=1, ceil_mode=False)\n",
              "  (conv2): Conv2d(6, 16, kernel_size=(5, 5), stride=(1, 1))\n",
              "  (fc1): Linear(in_features=400, out_features=120, bias=True)\n",
              "  (fc2): Linear(in_features=120, out_features=84, bias=True)\n",
              "  (fc3): Linear(in_features=84, out_features=10, bias=True)\n",
              "  (relu1): ReLU()\n",
              "  (relu2): ReLU()\n",
              "  (relu3): ReLU()\n",
              "  (relu4): ReLU()\n",
              ")"
            ]
          },
          "metadata": {},
          "execution_count": 10
        }
      ],
      "source": [
        "net.eval()"
      ]
    },
    {
      "cell_type": "markdown",
      "metadata": {
        "id": "yv_DwL0WRsVP"
      },
      "source": [
        "A generic function that will be used for calling `attribute` on attribution algorithm defined in input."
      ]
    },
    {
      "cell_type": "code",
      "execution_count": 11,
      "metadata": {
        "id": "zEuIF-QWRsVP"
      },
      "outputs": [],
      "source": [
        "def attribute_image_features(algorithm, input, **kwargs):\n",
        "    net.zero_grad()\n",
        "    tensor_attributions = algorithm.attribute(input,\n",
        "                                              target=labels[ind],\n",
        "                                              **kwargs\n",
        "                                             )\n",
        "    \n",
        "    return tensor_attributions\n",
        "        "
      ]
    },
    {
      "cell_type": "markdown",
      "metadata": {
        "id": "Aih5SkufRsVQ"
      },
      "source": [
        "Computes gradients with respect to class `ind` and transposes them for visualization purposes."
      ]
    },
    {
      "cell_type": "code",
      "execution_count": 12,
      "metadata": {
        "id": "IgrgTcxlRsVQ"
      },
      "outputs": [],
      "source": [
        "# computes saliency map\n",
        "saliency = Saliency(net)\n",
        "grads = saliency.attribute(input, target=labels[ind].item())\n",
        "grads = np.transpose(grads.squeeze().cpu().detach().numpy(), (1, 2, 0))"
      ]
    },
    {
      "cell_type": "markdown",
      "metadata": {
        "id": "LlV_6mMXRsVQ"
      },
      "source": [
        "Applies integrated gradients attribution algorithm on test image. Integrated Gradients computes the integral of the gradients of the output prediction for the class index `ind` with respect to the input image pixels. More details about integrated gradients can be found in the original paper: https://arxiv.org/abs/1703.01365"
      ]
    },
    {
      "cell_type": "code",
      "execution_count": 13,
      "metadata": {
        "colab": {
          "base_uri": "https://localhost:8080/"
        },
        "id": "vE-I31uaRsVQ",
        "outputId": "de38856e-9865-4bd9-c090-6aa7ad7e031a"
      },
      "outputs": [
        {
          "output_type": "stream",
          "name": "stdout",
          "text": [
            "Approximation delta:  tensor([0.1048], dtype=torch.float64)\n"
          ]
        }
      ],
      "source": [
        "ig = IntegratedGradients(net)\n",
        "attr_ig, delta = attribute_image_features(ig, input, baselines=input * 0, return_convergence_delta=True)\n",
        "attr_ig = np.transpose(attr_ig.squeeze().cpu().detach().numpy(), (1, 2, 0))\n",
        "print('Approximation delta: ', abs(delta))"
      ]
    },
    {
      "cell_type": "markdown",
      "metadata": {
        "id": "KlJvb-eORsVQ"
      },
      "source": [
        "Below we demonstrate how to use integrated gradients and noise tunnel with smoothgrad square option on the test image. Noise tunnel with `smoothgrad square` option adds gaussian noise with a standard deviation of `stdevs=0.2` to the input image `nt_samples` times, computes the attributions for `nt_samples` images and returns the mean of the squared attributions across `nt_samples` images."
      ]
    },
    {
      "cell_type": "code",
      "execution_count": 14,
      "metadata": {
        "id": "y3Nd_GPVRsVR"
      },
      "outputs": [],
      "source": [
        "ig = IntegratedGradients(net)\n",
        "nt = NoiseTunnel(ig)\n",
        "attr_ig_nt = attribute_image_features(nt, input, baselines=input * 0, nt_type='smoothgrad_sq',\n",
        "                                      nt_samples=100, stdevs=0.2)\n",
        "attr_ig_nt = np.transpose(attr_ig_nt.squeeze(0).cpu().detach().numpy(), (1, 2, 0))"
      ]
    },
    {
      "cell_type": "markdown",
      "metadata": {
        "id": "BWLfm3bCRsVR"
      },
      "source": [
        "Applies DeepLift on test image. Deeplift assigns attributions to each input pixel by looking at the differences of output and its reference in terms of the differences of the input from the reference."
      ]
    },
    {
      "cell_type": "code",
      "execution_count": 15,
      "metadata": {
        "colab": {
          "base_uri": "https://localhost:8080/"
        },
        "id": "Ags6jNUiRsVR",
        "outputId": "85db4919-29b5-4c9d-c8a3-79bd80cf1970"
      },
      "outputs": [
        {
          "output_type": "stream",
          "name": "stderr",
          "text": [
            "/usr/local/lib/python3.8/dist-packages/captum/attr/_core/deep_lift.py:304: UserWarning: Setting forward, backward hooks and attributes on non-linear\n",
            "               activations. The hooks and attributes will be removed\n",
            "            after the attribution is finished\n",
            "  warnings.warn(\n"
          ]
        }
      ],
      "source": [
        "dl = DeepLift(net)\n",
        "attr_dl = attribute_image_features(dl, input, baselines=input * 0)\n",
        "attr_dl = np.transpose(attr_dl.squeeze(0).cpu().detach().numpy(), (1, 2, 0))"
      ]
    },
    {
      "cell_type": "markdown",
      "metadata": {
        "id": "2s-B-vCfRsVR"
      },
      "source": [
        "In the cell below we will visualize the attributions for `Saliency Maps`, `DeepLift`, `Integrated Gradients` and `Integrated Gradients with SmoothGrad`."
      ]
    },
    {
      "cell_type": "code",
      "execution_count": null,
      "metadata": {
        "id": "O2hey7QwRsVR"
      },
      "outputs": [],
      "source": [
        "print('Original Image')\n",
        "print('Predicted:', classes[predicted[ind]], \n",
        "      ' Probability:', torch.max(F.softmax(outputs, 1)).item())\n",
        "\n",
        "original_image = np.transpose((images[ind].cpu().detach().numpy() / 2) + 0.5, (1, 2, 0))\n",
        "\n",
        "_ = viz.visualize_image_attr(None, original_image, \n",
        "                      method=\"original_image\", title=\"Original Image\")\n",
        "\n",
        "_ = viz.visualize_image_attr(grads, original_image, method=\"blended_heat_map\", sign=\"absolute_value\",\n",
        "                          show_colorbar=True, title=\"Overlayed Gradient Magnitudes\")\n",
        "\n",
        "_ = viz.visualize_image_attr(attr_ig, original_image, method=\"blended_heat_map\",sign=\"all\",\n",
        "                          show_colorbar=True, title=\"Overlayed Integrated Gradients\")\n",
        "\n",
        "_ = viz.visualize_image_attr(attr_ig_nt, original_image, method=\"blended_heat_map\", sign=\"absolute_value\", \n",
        "                             outlier_perc=10, show_colorbar=True, \n",
        "                             title=\"Overlayed Integrated Gradients \\n with SmoothGrad Squared\")\n",
        "\n",
        "_ = viz.visualize_image_attr(attr_dl, original_image, method=\"blended_heat_map\",sign=\"all\",show_colorbar=True, \n",
        "                          title=\"Overlayed DeepLift\")\n",
        "\n"
      ]
    },
    {
      "cell_type": "markdown",
      "source": [
        "# Implementing GradCAM\n",
        "The code below is adapted from this tutorial https://medium.com/@stepanulyanin/implementing-grad-cam-in-pytorch-ea0937c31e82"
      ],
      "metadata": {
        "id": "y3p3eB4-qnRD"
      }
    },
    {
      "cell_type": "code",
      "source": [
        "class ConvNet(nn.Module):\n",
        "    def __init__(self):\n",
        "        super(ConvNet, self).__init__()\n",
        "        \n",
        "        # get the network\n",
        "        self.convnet = net\n",
        "        \n",
        "        # disect the network to access its last convolutional layer\n",
        "        self.features_conv = nn.Sequential(\n",
        "                              self.convnet.conv1,\n",
        "                              self.convnet.relu1,\n",
        "                              self.convnet.pool1,\n",
        "                              self.convnet.conv2,\n",
        "                              self.convnet.relu2\n",
        "                            )\n",
        "        \n",
        "        # get the max pool of the features stem\n",
        "        self.max_pool = nn.MaxPool2d(kernel_size=2, stride=2, padding=0, dilation=1, ceil_mode=False)\n",
        "        \n",
        "        # get the classifier of the model\n",
        "        self.classifier = nn.Sequential(\n",
        "                          self.convnet.fc1,\n",
        "                          self.convnet.relu3,\n",
        "                          self.convnet.fc2,\n",
        "                          self.convnet.relu4,\n",
        "                          self.convnet.fc3\n",
        "                        )\n",
        "                      \n",
        "        # placeholder for the gradients\n",
        "        self.gradients = None\n",
        "    \n",
        "    # hook for the gradients of the activations\n",
        "    def activations_hook(self, grad):\n",
        "        self.gradients = grad\n",
        "        \n",
        "    def forward(self, x):\n",
        "        x = self.features_conv(x)\n",
        "        \n",
        "        # register the hook\n",
        "        h = x.register_hook(self.activations_hook)\n",
        "        \n",
        "        # apply the remaining pooling\n",
        "        x = self.max_pool(x)\n",
        "        x = x.view(-1, 16 * 5 * 5)\n",
        "        x = self.classifier(x)\n",
        "        return x\n",
        "    \n",
        "    # method for the gradient extraction\n",
        "    def get_activations_gradient(self):\n",
        "        return self.gradients\n",
        "    \n",
        "    # method for the activation exctraction\n",
        "    def get_activations(self, x):\n",
        "        return self.features_conv(x)"
      ],
      "metadata": {
        "id": "2d8-SGp7lsZp"
      },
      "execution_count": 101,
      "outputs": []
    },
    {
      "cell_type": "code",
      "source": [
        "# initialize the model\n",
        "convnet = ConvNet()\n",
        "\n",
        "# set the evaluation mode\n",
        "convnet.eval()\n",
        "\n",
        "# get the image from the dataloader\n",
        "dataiter = iter(testloader)\n",
        "img, label = next(dataiter)\n",
        "\n",
        "# get the most likely prediction of the model\n",
        "output = convnet(img)\n",
        "print(output)\n",
        "print(output.shape)\n",
        "_, pred = torch.max(output, 1)\n",
        "print(pred)\n",
        "print('Predicted: ', ' '.join('%5s' % classes[pred[j]] for j in range(4)))"
      ],
      "metadata": {
        "colab": {
          "base_uri": "https://localhost:8080/"
        },
        "id": "zUFGseTeuGWn",
        "outputId": "dea6f248-d22a-45c3-8f52-0e8371c823e8"
      },
      "execution_count": 102,
      "outputs": [
        {
          "output_type": "stream",
          "name": "stdout",
          "text": [
            "tensor([[-5.1116, -4.9508,  5.6969,  7.1455,  0.6529,  4.1696,  3.4359, -1.6593,\n",
            "         -3.7317, -4.4865],\n",
            "        [ 5.5994,  8.6038, -4.2344, -4.6868, -3.2834, -5.8986, -4.9087, -3.1921,\n",
            "          8.6197,  3.9456],\n",
            "        [ 2.0119,  0.8491, -0.4865,  0.4970, -1.5228, -0.9074, -1.7042, -0.8516,\n",
            "          1.6234,  1.2568],\n",
            "        [ 2.8730,  0.2899,  0.4769, -1.0035,  0.1670, -1.3964, -1.1194, -1.0338,\n",
            "          1.4236,  0.7617]], grad_fn=<AddmmBackward0>)\n",
            "torch.Size([4, 10])\n",
            "tensor([3, 8, 0, 0])\n",
            "Predicted:    cat  ship plane plane\n"
          ]
        }
      ]
    },
    {
      "cell_type": "code",
      "source": [
        "imshow(torchvision.utils.make_grid(img))\n",
        "print('GroundTruth: ', ' '.join('%5s' % classes[label[j]] for j in range(4)))\n",
        "\n",
        "outputs = net(img)\n",
        "_, predicted = torch.max(outputs, 1)\n",
        "print('Predicted: ', ' '.join('%5s' % classes[predicted[j]]\n",
        "                              for j in range(4)))"
      ],
      "metadata": {
        "colab": {
          "base_uri": "https://localhost:8080/",
          "height": 173
        },
        "id": "ty394BWtQwWD",
        "outputId": "31900326-ce22-4697-a569-445e7e1487b1"
      },
      "execution_count": 82,
      "outputs": [
        {
          "output_type": "display_data",
          "data": {
            "text/plain": [
              "<Figure size 432x288 with 1 Axes>"
            ],
            "image/png": "[encoded data removed]"
          },
          "metadata": {
            "needs_background": "light"
          }
        },
        {
          "output_type": "stream",
          "name": "stdout",
          "text": [
            "GroundTruth:    cat  ship  ship plane\n",
            "Predicted:    cat  ship plane plane\n"
          ]
        }
      ]
    },
    {
      "cell_type": "code",
      "source": [
        "# index of the sample in the batch\n",
        "sample_ind = 3\n",
        "\n",
        "# get the gradient of the output with respect to the parameters of the model\n",
        "torch.max(output[sample_ind]).backward()\n",
        "\n",
        "# pull the gradients out of the model\n",
        "gradients = convnet.get_activations_gradient()\n",
        "\n",
        "# pool the gradients across the channels\n",
        "pooled_gradients = torch.mean(gradients, dim=[0, 2, 3])\n",
        "\n",
        "# get the activations of the last convolutional layer\n",
        "activations = convnet.get_activations(img).detach()\n",
        "\n",
        "# weight the channels by corresponding gradients\n",
        "for i in range(16):\n",
        "    activations[:, i, :, :] *= pooled_gradients[i]\n",
        "    \n",
        "# average the channels of the activations\n",
        "heatmap = torch.mean(activations, dim=1).squeeze()\n",
        "\n",
        "# relu on top of the heatmap\n",
        "# expression (2) in https://arxiv.org/pdf/1610.02391.pdf\n",
        "heatmap = np.maximum(heatmap, 0)\n",
        "\n",
        "# normalize the heatmap\n",
        "heatmap /= torch.max(heatmap)"
      ],
      "metadata": {
        "id": "W0hVJL0EKjjA"
      },
      "execution_count": 103,
      "outputs": []
    },
    {
      "cell_type": "code",
      "source": [
        "heatmap = heatmap.squeeze()[sample_ind]\n",
        "\n",
        "# draw the heatmap\n",
        "plt.matshow(heatmap)"
      ],
      "metadata": {
        "colab": {
          "base_uri": "https://localhost:8080/",
          "height": 293
        },
        "id": "r4Bwow2rJ9R6",
        "outputId": "a087a853-598d-4d06-f0fd-a49c7a7b71f9"
      },
      "execution_count": 104,
      "outputs": [
        {
          "output_type": "execute_result",
          "data": {
            "text/plain": [
              "<matplotlib.image.AxesImage at 0x7f5256302970>"
            ]
          },
          "metadata": {},
          "execution_count": 104
        },
        {
          "output_type": "display_data",
          "data": {
            "text/plain": [
              "<Figure size 288x288 with 1 Axes>"
            ],
            "image/png": "[encoded data removed]"
          },
          "metadata": {
            "needs_background": "light"
          }
        }
      ]
    },
    {
      "cell_type": "code",
      "source": [
        "image = img[sample_ind]\n",
        "imshow(image)"
      ],
      "metadata": {
        "colab": {
          "base_uri": "https://localhost:8080/",
          "height": 266
        },
        "id": "Y8CJjQS1myFi",
        "outputId": "0373647b-47ca-4ad9-9214-28013c944f43"
      },
      "execution_count": 105,
      "outputs": [
        {
          "output_type": "display_data",
          "data": {
            "text/plain": [
              "<Figure size 432x288 with 1 Axes>"
            ],
            "image/png": "[encoded data removed]"
          },
          "metadata": {
            "needs_background": "light"
          }
        }
      ]
    },
    {
      "cell_type": "code",
      "source": [
        "import cv2\n",
        "from google.colab.patches import cv2_imshow\n",
        "\n",
        "image = image / 2 + 0.5     # unnormalize\n",
        "img_np = np.transpose(image.numpy(), (1, 2, 0))\n",
        "print(img_np.shape)\n",
        "img_cv2 = cv2.cvtColor(img_np, cv2.COLOR_RGB2BGR)\n",
        "\n",
        "heatmap_np = heatmap.numpy()\n",
        "heatmap = cv2.resize(heatmap.numpy(), (32, 32))\n",
        "heatmap = np.uint8(255 * heatmap)\n",
        "heatmap = cv2.applyColorMap(heatmap, cv2.COLORMAP_JET)\n",
        "superimposed_img = heatmap * 0.4 + img_cv2\n",
        "cv2_imshow(superimposed_img)"
      ],
      "metadata": {
        "colab": {
          "base_uri": "https://localhost:8080/",
          "height": 67
        },
        "id": "gM2a8U10ms8e",
        "outputId": "a2a3b640-f2c2-4296-b2fa-1f8ec713fcd3"
      },
      "execution_count": 106,
      "outputs": [
        {
          "output_type": "stream",
          "name": "stdout",
          "text": [
            "(32, 32, 3)\n"
          ]
        },
        {
          "output_type": "display_data",
          "data": {
            "text/plain": [
              "<PIL.Image.Image image mode=RGB size=32x32 at 0x7F5285BFEF70>"
            ],
            "image/png": "[encoded data removed]"
          },
          "metadata": {}
        }
      ]
    },
    {
      "cell_type": "code",
      "source": [
        "# scaled_superimposed_img = superimposed_img / superimposed_img.max() # scale to [0,1]\n",
        "plt.imshow(superimposed_img)\n",
        "plt.show()"
      ],
      "metadata": {
        "colab": {
          "base_uri": "https://localhost:8080/",
          "height": 283
        },
        "id": "RuvkbLqP4S62",
        "outputId": "30d4a884-e9bd-4d9d-c60e-368a60305e55"
      },
      "execution_count": 107,
      "outputs": [
        {
          "output_type": "stream",
          "name": "stderr",
          "text": [
            "WARNING:matplotlib.image:Clipping input data to the valid range for imshow with RGB data ([0..1] for floats or [0..255] for integers).\n"
          ]
        },
        {
          "output_type": "display_data",
          "data": {
            "text/plain": [
              "<Figure size 432x288 with 1 Axes>"
            ],
            "image/png": "[encoded data removed]"
          },
          "metadata": {
            "needs_background": "light"
          }
        }
      ]
    },
    {
      "cell_type": "markdown",
      "source": [
        "# Implementing GradCAM\n",
        "Using this library: https://github.com/jacobgil/pytorch-grad-cam"
      ],
      "metadata": {
        "id": "PtvJcmHKTFjD"
      }
    },
    {
      "cell_type": "code",
      "source": [
        "!pip install grad-cam"
      ],
      "metadata": {
        "id": "4u9EGKZzTMjq"
      },
      "execution_count": null,
      "outputs": []
    },
    {
      "cell_type": "code",
      "source": [
        "from pytorch_grad_cam import GradCAM\n",
        "from pytorch_grad_cam.utils.model_targets import ClassifierOutputTarget\n",
        "from pytorch_grad_cam.utils.image import show_cam_on_image\n",
        "\n",
        "model = convnet\n",
        "target_layers = nn.Sequential(\n",
        "                model.convnet.conv1,\n",
        "                model.convnet.relu1,\n",
        "                model.convnet.pool1,\n",
        "                model.convnet.conv2,\n",
        "                model.convnet.relu2\n",
        "                )\n",
        "input_tensor = img\n",
        "# Note: input_tensor can be a batch tensor with several images!\n",
        "\n",
        "# Construct the CAM object once, and then re-use it on many images:\n",
        "cam = GradCAM(model=model, target_layers=target_layers)\n",
        "\n",
        "# We have to specify the target we want to generate the Class Activation Maps for.\n",
        "# If targets is None, the highest scoring category will be used for every image in the batch.\n",
        "# Here we use ClassifierOutputTarget, but you can define your own custom targets\n",
        "# That are, for example, combinations of categories, or specific outputs in a non standard model.\n",
        "\n",
        "# targets = [ClassifierOutputTarget()]\n",
        "\n",
        "# You can also pass aug_smooth=True and eigen_smooth=True, to apply smoothing.\n",
        "grayscale_cam = cam(input_tensor=input_tensor, targets=None)\n",
        "# grayscale_cam = cam(input_tensor=input_tensor, targets=None, aug_smooth=True, eigen_smooth=True)\n",
        "\n",
        "# In this example grayscale_cam has only one image in the batch:\n",
        "grayscale_cam = grayscale_cam[sample_ind]\n",
        "visualization = show_cam_on_image(img_cv2, grayscale_cam, use_rgb=True)\n",
        "cv2_imshow(visualization)"
      ],
      "metadata": {
        "colab": {
          "base_uri": "https://localhost:8080/",
          "height": 49
        },
        "id": "7GKhryE_U5nf",
        "outputId": "96d465ab-273e-40d5-82b5-625d3ec51a15"
      },
      "execution_count": 108,
      "outputs": [
        {
          "output_type": "display_data",
          "data": {
            "text/plain": [
              "<PIL.Image.Image image mode=RGB size=32x32 at 0x7F525661CC40>"
            ],
            "image/png": "[encoded data removed]"
          },
          "metadata": {}
        }
      ]
    },
    {
      "cell_type": "code",
      "source": [
        "visualization = visualization / visualization.max() # scale to [0,1]\n",
        "plt.imshow(visualization)\n",
        "plt.show()"
      ],
      "metadata": {
        "colab": {
          "base_uri": "https://localhost:8080/",
          "height": 266
        },
        "id": "RfjAqwd_ig1r",
        "outputId": "27db7896-ffb4-44ed-b9d8-e2a8b28b40ab"
      },
      "execution_count": 109,
      "outputs": [
        {
          "output_type": "display_data",
          "data": {
            "text/plain": [
              "<Figure size 432x288 with 1 Axes>"
            ],
            "image/png": "[encoded data removed]"
          },
          "metadata": {
            "needs_background": "light"
          }
        }
      ]
    }
  ],
  "metadata": {
    "kernelspec": {
      "display_name": "Python 3",
      "language": "python",
      "name": "python3"
    },
    "language_info": {
      "codemirror_mode": {
        "name": "ipython",
        "version": 3
      },
      "file_extension": ".py",
      "mimetype": "text/x-python",
      "name": "python",
      "nbconvert_exporter": "python",
      "pygments_lexer": "ipython3",
      "version": "3.7.6"
    },
    "colab": {
      "provenance": []
    }
  },
  "nbformat": 4,
  "nbformat_minor": 0
}